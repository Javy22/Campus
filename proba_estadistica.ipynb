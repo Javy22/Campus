{
  "cells": [
    {
      "cell_type": "markdown",
      "metadata": {
        "id": "view-in-github",
        "colab_type": "text"
      },
      "source": [
        "<a href=\"https://colab.research.google.com/github/Javy22/Campus/blob/master/proba_estadistica.ipynb\" target=\"_parent\"><img src=\"https://colab.research.google.com/assets/colab-badge.svg\" alt=\"Open In Colab\"/></a>"
      ]
    },
    {
      "cell_type": "markdown",
      "metadata": {
        "id": "Ea9CPlvttQda"
      },
      "source": [
        "<a href=\"https://www.inove.com.ar\"><img src=\"https://raw.githubusercontent.com/InoveAlumnos/intro_analytics_python/main/images/PA%20Banner.png\" width=\"1000\" align=\"center\"></a>\n",
        "\n",
        "\n",
        "# Probabilidad y estadística\n",
        "\n",
        "Programa creado para mostrar ejemplos prácticos de los visto durante la clase\\\n",
        "v2.0"
      ]
    },
    {
      "cell_type": "markdown",
      "metadata": {
        "id": "86driwTKyANt"
      },
      "source": [
        "Objetivos: \n",
        "* Conocer el entorno de trabajo en Colab y Notebooks (Habilitar, conectar, guardar, bloques de texto y código, ejecución).\n",
        "* Repasar las librerias de Numpy, Matplotlib y Seaborn.\n",
        "* Implementar con numpy los indicadores de probabilidad como la media, mediana y desviación estandar. \n",
        "* Comunicar visualmente la distribución de los datos a través de gráficos de frecuencia, distribución y caja (boxplot).\n",
        "* Comprender los outliers y su repercusión en la media, mediana y desviación estandar."
      ]
    },
    {
      "cell_type": "code",
      "execution_count": null,
      "metadata": {
        "id": "xJN8ND5ctQdc"
      },
      "outputs": [],
      "source": [
        "# Librerías a implementar\n",
        "import numpy as np\n",
        "import matplotlib.pyplot as plt\n",
        "import seaborn as sns"
      ]
    },
    {
      "cell_type": "markdown",
      "metadata": {
        "id": "IPO4G9mAtQdg"
      },
      "source": [
        "### Repaso NumPy"
      ]
    },
    {
      "cell_type": "code",
      "execution_count": null,
      "metadata": {
        "colab": {
          "base_uri": "https://localhost:8080/"
        },
        "id": "QO_TuueMyANv",
        "outputId": "10482697-5064-4974-9c89-094ed3dffa08"
      },
      "outputs": [
        {
          "output_type": "execute_result",
          "data": {
            "text/plain": [
              "3"
            ]
          },
          "metadata": {},
          "execution_count": 2
        }
      ],
      "source": [
        "# NumPy brinda una enorme variedad de formas rápidas y eficientes de crear \n",
        "# matrices y manipular datos numéricos homogéneos dentro de ellas.\n",
        "# Una matriz es una cuadrícula de valores, que permite almacenar multiples valores en una sola variable.\n",
        "# Una forma para inicializar las matrices es desde las listas de Python.\n",
        "# Haciendo uso del método array() de Numpy(np).\n",
        "# Fuente: https://numpy.org/doc/stable/user/absolute_beginners.html\n",
        "\n",
        "matriz = np.array([1, 2, 3, 4, 5, 6])\n",
        "\n",
        "\n",
        "# Indexación y corte (Acceder a elelmentos por partes o posición)\n",
        "matriz[2]"
      ]
    },
    {
      "cell_type": "code",
      "execution_count": null,
      "metadata": {
        "colab": {
          "base_uri": "https://localhost:8080/"
        },
        "id": "hR0CgYrDzF01",
        "outputId": "e72619c7-a7e2-4606-8431-f9fb60eb7c59"
      },
      "outputs": [
        {
          "output_type": "execute_result",
          "data": {
            "text/plain": [
              "array([0., 0., 0., 0., 0.])"
            ]
          },
          "metadata": {},
          "execution_count": 3
        }
      ],
      "source": [
        "# Se puede crear una matriz a partir de una secuencia de elementos, puede crear fácilmente una matriz llena de ceros.\n",
        "# Con el método zeros() de NumPy(np) ---> np.zeros(cantidad_elementos)\n",
        "matriz_ceros = np.zeros(5)\n",
        "matriz_ceros"
      ]
    },
    {
      "cell_type": "code",
      "execution_count": null,
      "metadata": {
        "colab": {
          "base_uri": "https://localhost:8080/"
        },
        "id": "wuv2tRIZzVMu",
        "outputId": "27ddf3d9-8933-4bbb-b26c-c88a632978be"
      },
      "outputs": [
        {
          "output_type": "execute_result",
          "data": {
            "text/plain": [
              "array([1., 1., 1.])"
            ]
          },
          "metadata": {},
          "execution_count": 4
        }
      ],
      "source": [
        "# Se puede crear una matriz de unos como elementos.\n",
        "# Con el método: ones() de NumPy(np) ---> np.zeros(cantidad_elementos)\n",
        "matriz_unos = np.ones(3)\n",
        "matriz_unos"
      ]
    },
    {
      "cell_type": "code",
      "execution_count": null,
      "metadata": {
        "colab": {
          "base_uri": "https://localhost:8080/"
        },
        "id": "b5_o_52a0TR-",
        "outputId": "1ac9be28-3ce4-4f3d-b90e-f71cee6220c6"
      },
      "outputs": [
        {
          "output_type": "execute_result",
          "data": {
            "text/plain": [
              "array([0, 1, 2, 3])"
            ]
          },
          "metadata": {},
          "execution_count": 5
        }
      ],
      "source": [
        "# Se puede crear una matriz con un rango de elementos.\n",
        "# Con el método: arange() de NumPy(np) ---> np.arange(cantidad_elementos)\n",
        "matriz_range = np.arange(4)\n",
        "matriz_range"
      ]
    },
    {
      "cell_type": "code",
      "execution_count": null,
      "metadata": {
        "colab": {
          "base_uri": "https://localhost:8080/"
        },
        "id": "2fzMfvPW01aN",
        "outputId": "06c11dc9-8503-4191-95db-43ebfbc83133"
      },
      "outputs": [
        {
          "output_type": "execute_result",
          "data": {
            "text/plain": [
              "array([ 0.,  2.,  4.,  6.,  8., 10.])"
            ]
          },
          "metadata": {},
          "execution_count": 6
        }
      ],
      "source": [
        "# También puede usar np.linspace() para crear una matriz con valores que están separados por la misma cantidad.\n",
        "# Con el método: linspace() de NumPy(np) ---> np.linspace(desde, hasta,cantidad_elementos)\n",
        "matriz_space = np.linspace(0,10,6)\n",
        "matriz_space"
      ]
    },
    {
      "cell_type": "code",
      "execution_count": null,
      "metadata": {
        "colab": {
          "base_uri": "https://localhost:8080/"
        },
        "id": "rIXjlBRb2Bi_",
        "outputId": "44eaef21-41d8-4924-bb47-4ec08e792e7e"
      },
      "outputs": [
        {
          "output_type": "execute_result",
          "data": {
            "text/plain": [
              "array([1, 2, 3, 4, 5, 6, 7, 8])"
            ]
          },
          "metadata": {},
          "execution_count": 7
        }
      ],
      "source": [
        "# Se pueden concatenar las matrices con el método: concatenate() de NumPy(np) ---> np.concatenate()\n",
        "matriz_a = np.array([1, 2, 3, 4])\n",
        "matriz_b = np.array([5, 6, 7, 8])\n",
        "\n",
        "matriz_concatenada = np.concatenate((matriz_a, matriz_b))\n",
        "matriz_concatenada\n",
        "\n",
        "# Si aparece el siguiente error:\n",
        "# TypeError: only integer scalar arrays can be converted to a scalar index\n",
        "# y tiene lo siguiente: np.concatenate(matriz_a, matriz_b)\n",
        "# Es porque el método concatenate() espera como parámetro una tupla con las matrices\n",
        "# a concatenar. Es por ello, que tiene doble (()), una del método y el otro de la tupla \n",
        "# con las matrices."
      ]
    },
    {
      "cell_type": "code",
      "execution_count": null,
      "metadata": {
        "colab": {
          "base_uri": "https://localhost:8080/"
        },
        "id": "elBj3oWn36eH",
        "outputId": "5538875c-3c7a-4725-a6d9-eccacfec2802"
      },
      "outputs": [
        {
          "output_type": "execute_result",
          "data": {
            "text/plain": [
              "(8,)"
            ]
          },
          "metadata": {},
          "execution_count": 8
        }
      ],
      "source": [
        "# Con shape, es una herramienta que muestra una tupla(nro_filas, nro_columnas) que indican el número de elementos almacenados a lo \n",
        "# largo de cada dimensión de la matriz.\n",
        "matriz_concatenada.shape"
      ]
    },
    {
      "cell_type": "code",
      "execution_count": null,
      "metadata": {
        "colab": {
          "base_uri": "https://localhost:8080/"
        },
        "id": "6C0WrqdJ5PM3",
        "outputId": "dead2ecf-13ee-4a4d-cc3f-c743e991e314"
      },
      "outputs": [
        {
          "output_type": "execute_result",
          "data": {
            "text/plain": [
              "array([[14, 15],\n",
              "       [16, 17]])"
            ]
          },
          "metadata": {},
          "execution_count": 9
        }
      ],
      "source": [
        "# COn reshape() se puede remodelar una matriz.\n",
        "# Por ejemplo, puede remodelar esta edad a una matriz con dos filas y dos columnas:\n",
        "edad = np.array([14,15,16,17])\n",
        "edad_reshape = edad.reshape(2,2)\n",
        "edad_reshape"
      ]
    },
    {
      "cell_type": "code",
      "execution_count": null,
      "metadata": {
        "colab": {
          "base_uri": "https://localhost:8080/"
        },
        "id": "3WUkoRAO6mC_",
        "outputId": "3eb95c2e-1cfd-4688-b507-a200af97bebe"
      },
      "outputs": [
        {
          "output_type": "execute_result",
          "data": {
            "text/plain": [
              "array([14, 15])"
            ]
          },
          "metadata": {},
          "execution_count": 10
        }
      ],
      "source": [
        "# Se pueden filtrar matrices.\n",
        "# Extraer los valores en la matriz que son menores a 16.\n",
        "menore_16 = edad[edad<16]\n",
        "menore_16\n"
      ]
    },
    {
      "cell_type": "markdown",
      "metadata": {
        "id": "CfNuNunB9NL_"
      },
      "source": [
        "### Ejemplo NumPy y Matplotlib\n",
        "\n",
        "Objetivo: Gráficar 1000 tiros de una moneda, cuya probabilidad de cara o ceca es de 1/2, que corresponde a 0.5\n",
        "\n",
        "1.   Obtener los valores a gráficar, tanto para cara y ceca con arrays de NumPy (np.ones).\n",
        "2.   Realizar una representación gráfica de tipo scatter con Matplotlib\n",
        "\n",
        "\n",
        "  \n",
        "\n",
        "\n",
        "\n"
      ]
    },
    {
      "cell_type": "code",
      "execution_count": null,
      "metadata": {
        "id": "YTCMJhT783oQ"
      },
      "outputs": [],
      "source": [
        "cantidad_tiros = 20\n",
        "probabilidad = 0.5\n",
        "\n",
        "# El 1 representa a las caras.\n",
        "# El 0 representa a las cecas.\n",
        "# Armar un array que represente las 10 veces que puede salir una cara(1)\n",
        "# Armar un array que represente las 10 veces que puede salir una ceca(0)\n",
        " \n",
        "caras = 1 * np.ones(int(cantidad_tiros * probabilidad))\n",
        "cecas = 0 * np.ones(int(cantidad_tiros * probabilidad))"
      ]
    },
    {
      "cell_type": "code",
      "execution_count": null,
      "metadata": {
        "id": "qD5EPlDzR-fQ"
      },
      "outputs": [],
      "source": [
        "# x_tiros almacena la lista de números que van del 0 al 20\n",
        "x_tiros = range(cantidad_tiros)"
      ]
    },
    {
      "cell_type": "code",
      "execution_count": null,
      "metadata": {
        "id": "xEi0-GjcSPAp"
      },
      "outputs": [],
      "source": [
        "# moneda almacena las dos matrices en una. Es decir, los 20 tiros\n",
        "moneda = np.append(caras, cecas)"
      ]
    },
    {
      "cell_type": "code",
      "execution_count": null,
      "metadata": {
        "id": "Szq4V-4xSi1J"
      },
      "outputs": [],
      "source": [
        "# np.random.shuffle() se encarga de mezclar una lista (reorganizar el orden de los elementos)\n",
        "np.random.shuffle(moneda)"
      ]
    },
    {
      "cell_type": "code",
      "execution_count": null,
      "metadata": {
        "colab": {
          "base_uri": "https://localhost:8080/",
          "height": 265
        },
        "id": "troSuQu1Sksp",
        "outputId": "7956695f-a246-45f0-da5c-102cee232ac1"
      },
      "outputs": [
        {
          "output_type": "display_data",
          "data": {
            "text/plain": [
              "<Figure size 432x288 with 1 Axes>"
            ],
            "image/png": "[encoded data removed]"
          },
          "metadata": {
            "needs_background": "light"
          }
        }
      ],
      "source": [
        "# De matplotlib se utiliza el método scatter para graficar, necesita los valores para el eje x\n",
        "# y el eje y. Se necesita de Matplotlib el método show() para mostrar el gráfico.\n",
        "# fig almacena el espacio para dibujar, a partir del método figure().\n",
        "# ax almacena el espacio para configurar el gráfico.\n",
        "# El método scatter es para realizar un gráfico de dispersión, que necesita valores\n",
        "# para el eje x (x_tiros) y para el eje y(moneda)\n",
        "# Por lo tanto, el gráfico mostrará los 20 tiros Y que salió en cada jugada.\n",
        "# El parámetro color le asigna color a los puntos o línea del gráfico\n",
        "# plt.show() para mostrar la figura\n",
        "\n",
        "fig = plt.figure()\n",
        "ax = plt.subplot()\n",
        "ax.scatter(x_tiros, moneda, color=\"darkorange\")\n",
        "plt.show()"
      ]
    },
    {
      "cell_type": "code",
      "execution_count": null,
      "metadata": {
        "colab": {
          "base_uri": "https://localhost:8080/",
          "height": 265
        },
        "id": "E1W8YsDlY5_i",
        "outputId": "22c26d08-3c3f-4bc9-ae36-e25f3fce5fa1"
      },
      "outputs": [
        {
          "output_type": "display_data",
          "data": {
            "text/plain": [
              "<Figure size 432x288 with 1 Axes>"
            ],
            "image/png": "[encoded data removed]"
          },
          "metadata": {
            "needs_background": "light"
          }
        }
      ],
      "source": [
        "plt.scatter(x_tiros, moneda)\n",
        "plt.show()"
      ]
    },
    {
      "cell_type": "code",
      "execution_count": null,
      "metadata": {
        "id": "VTtmWlqKTovI"
      },
      "outputs": [],
      "source": [
        "## Todo puede estar dentro de un bloque de código\n",
        "# cantidad_tiros = 20\n",
        "# probabilidad = 0.5\n",
        "# caras = 1 * np.ones(int(cantidad_tiros * probabilidad))\n",
        "# cecas = 0 * np.ones(int(cantidad_tiros * probabilidad))\n",
        "# x_tiros = range(cantidad_tiros)\n",
        "# moneda = np.append(caras, cecas)\n",
        "# np.random.shuffle(moneda)\n",
        "# plt.scatter(x_tiros, moneda)\n",
        "# plt.show()"
      ]
    },
    {
      "cell_type": "code",
      "execution_count": null,
      "metadata": {
        "colab": {
          "base_uri": "https://localhost:8080/",
          "height": 265
        },
        "id": "2nZwRWlpyANx",
        "outputId": "73ee7ac9-8ccf-4629-dccc-f5397957f80e"
      },
      "outputs": [
        {
          "output_type": "display_data",
          "data": {
            "text/plain": [
              "<Figure size 432x288 with 1 Axes>"
            ],
            "image/png": "[encoded data removed]"
          },
          "metadata": {
            "needs_background": "light"
          }
        }
      ],
      "source": [
        "# Repaso  Matplotlib\n",
        "# Es una biblioteca completa para crear visualizaciones en Python.\n",
        "# El método hist() utiliza se utiliza para agrupar los datos en x, y contar la cantidad de valores en cada contenedor.\n",
        " # Fuente: https://matplotlib.org/stable/api/_as_gen/matplotlib.axes.Axes.hist.html#matplotlib.axes.Axes.hist\n",
        "fig = plt.figure()\n",
        "ax = plt.subplot()\n",
        "ax.hist(moneda, color=\"darkviolet\")\n",
        "ax.set(xticks=np.arange(0, 2), yticks=np.arange(0,11)) # el método set configura los valores de los ejes\n",
        "plt.show()"
      ]
    },
    {
      "cell_type": "code",
      "execution_count": null,
      "metadata": {
        "colab": {
          "base_uri": "https://localhost:8080/",
          "height": 265
        },
        "id": "eFfQLEdmYsSq",
        "outputId": "51b15e9c-afd7-4c87-b419-956ee919dbed"
      },
      "outputs": [
        {
          "output_type": "display_data",
          "data": {
            "text/plain": [
              "<Figure size 432x288 with 1 Axes>"
            ],
            "image/png": "[encoded data removed]"
          },
          "metadata": {
            "needs_background": "light"
          }
        }
      ],
      "source": [
        "plt.hist(moneda)\n",
        "plt.show()"
      ]
    },
    {
      "cell_type": "markdown",
      "metadata": {
        "id": "ebOCNHvQdSB7"
      },
      "source": [
        "### Seaborn\n"
      ]
    },
    {
      "cell_type": "code",
      "execution_count": null,
      "metadata": {
        "colab": {
          "base_uri": "https://localhost:8080/",
          "height": 265
        },
        "id": "yGkQNrsbyANx",
        "outputId": "50988bf6-4f05-489a-af97-bddec9a28362"
      },
      "outputs": [
        {
          "output_type": "display_data",
          "data": {
            "text/plain": [
              "<Figure size 432x288 with 1 Axes>"
            ],
            "image/png": "[encoded data removed]"
          },
          "metadata": {
            "needs_background": "light"
          }
        }
      ],
      "source": [
        "# Es un gráfico de conteo que se puede considerar como un histograma a través de una variable categórica, en lugar de cuantitativa. \n",
        "# Fuente: https://seaborn.pydata.org/generated/seaborn.countplot.html\n",
        "sns.countplot(x=moneda)\n",
        "plt.show()"
      ]
    },
    {
      "cell_type": "code",
      "execution_count": null,
      "metadata": {
        "colab": {
          "base_uri": "https://localhost:8080/",
          "height": 265
        },
        "id": "1l6oP1jLcNea",
        "outputId": "db277768-358d-4127-e7db-35d7c5041cef"
      },
      "outputs": [
        {
          "output_type": "display_data",
          "data": {
            "text/plain": [
              "<Figure size 432x288 with 1 Axes>"
            ],
            "image/png": "[encoded data removed]"
          },
          "metadata": {
            "needs_background": "light"
          }
        }
      ],
      "source": [
        "sns.scatterplot(x=x_tiros, y=moneda)\n",
        "plt.show()"
      ]
    },
    {
      "cell_type": "markdown",
      "metadata": {
        "id": "X9fsqU8xbYJi"
      },
      "source": [
        "### Indicadores de probabilidad: media, mediana y desviación estandar"
      ]
    },
    {
      "cell_type": "code",
      "execution_count": null,
      "metadata": {
        "id": "eEOTxJGCfGD6"
      },
      "outputs": [],
      "source": [
        "# crear una matriz con valores que están separados por la misma cantidad\n",
        "y = np.linspace(0, 100, 100)"
      ]
    },
    {
      "cell_type": "code",
      "execution_count": null,
      "metadata": {
        "colab": {
          "base_uri": "https://localhost:8080/"
        },
        "id": "KBNwt5OPtQdv",
        "outputId": "5099e7be-35d0-41a6-dfef-fdc9f290ef89",
        "tags": []
      },
      "outputs": [
        {
          "output_type": "stream",
          "name": "stdout",
          "text": [
            "Promedio: 50.00000000000001\n",
            "Mediana: 50.0\n",
            "Desvio: 29.157646512850626\n"
          ]
        }
      ],
      "source": [
        "# Los métodos:\n",
        "# mean() calcula promedio\n",
        "# median() calcula el valor central de los datos.\n",
        "# std() calcula la desviación estandar, que tan alejados están los datos de la media.\n",
        "print(\"Promedio:\", np.mean(y))\n",
        "print(\"Mediana:\", np.median(y))\n",
        "print(\"Desvio:\", np.std(y))"
      ]
    },
    {
      "cell_type": "code",
      "execution_count": null,
      "metadata": {
        "colab": {
          "base_uri": "https://localhost:8080/",
          "height": 282
        },
        "id": "kp_J95dmtQdy",
        "outputId": "5acab12f-ce8a-4032-989b-f3b1ee0bab2e",
        "tags": []
      },
      "outputs": [
        {
          "output_type": "stream",
          "name": "stdout",
          "text": [
            "Distribución uniforme:\n"
          ]
        },
        {
          "output_type": "display_data",
          "data": {
            "text/plain": [
              "<Figure size 432x288 with 1 Axes>"
            ],
            "image/png": "[encoded data removed]"
          },
          "metadata": {
            "needs_background": "light"
          }
        }
      ],
      "source": [
        "print(\"Distribución uniforme:\")\n",
        "plt.hist(y)\n",
        "plt.show()"
      ]
    },
    {
      "cell_type": "code",
      "execution_count": null,
      "metadata": {
        "colab": {
          "base_uri": "https://localhost:8080/",
          "height": 317
        },
        "id": "QjWj3xYRtQd5",
        "outputId": "27650494-ff60-466e-9dbc-207d4393f9dc",
        "tags": []
      },
      "outputs": [
        {
          "output_type": "stream",
          "name": "stdout",
          "text": [
            "Promedio: 59.405940594059416\n",
            "Mediana: 50.505050505050505\n",
            "Desvio: 98.43232542030236\n"
          ]
        },
        {
          "output_type": "display_data",
          "data": {
            "text/plain": [
              "<Figure size 432x288 with 1 Axes>"
            ],
            "image/png": "[encoded data removed]"
          },
          "metadata": {
            "needs_background": "light"
          }
        }
      ],
      "source": [
        "# Mismo rango de datos en un array llamado x\n",
        "x = np.linspace(0, 100, 100)\n",
        "\n",
        "# Agragando un valor alejando del grueso de datos.\n",
        "# Para agregar el número 1000, debe tener el mismo formato de datos. Es decir, convertirlo en array. \n",
        "ruido = np.array(1000)  \n",
        "\n",
        "# Para agregarlo a los demás datos se implementa el método append()\n",
        "y2 = np.append(x, ruido) \n",
        "\n",
        "# Calculo de lo indicadores de probabilidad.\n",
        "print(\"Promedio:\", np.mean(y2))\n",
        "print(\"Mediana:\", np.median(y2))\n",
        "print(\"Desvio:\", np.std(y2))\n",
        "\n",
        "# Representación gráfica a través de un histograma\n",
        "plt.hist(y2)\n",
        "plt.show()"
      ]
    },
    {
      "cell_type": "markdown",
      "metadata": {
        "id": "fQsUYcNBtQd8"
      },
      "source": [
        "\n",
        "\n",
        "Estos valores muy alejados del resto de los datos se los conoce como: \n",
        "\n",
        "*   \"outliers\" (valores atípicos o ruido) los cuales debemos indentificarlos y extraerlos.\n",
        "*   Por otro lado, la \"mediana\" tiene mayor resilencia (se ve menos afetacada) por el ruido o valores atípicos.\n",
        "\n",
        "\n"
      ]
    },
    {
      "cell_type": "markdown",
      "metadata": {
        "id": "x8SDRXq4tQd9"
      },
      "source": [
        "### Ejemplo: Frecuencia de un colectivo"
      ]
    },
    {
      "cell_type": "code",
      "execution_count": null,
      "metadata": {
        "colab": {
          "base_uri": "https://localhost:8080/"
        },
        "id": "Wkb77T6qjJrD",
        "outputId": "082f531a-78c0-4671-cfa0-6ebe7cc93748"
      },
      "outputs": [
        {
          "output_type": "stream",
          "name": "stdout",
          "text": [
            "Datos recolectados los lunes: 43\n"
          ]
        }
      ],
      "source": [
        "lunes = [12, 13, 12, 19, 17, 14, 11, 20, 19, 15 ,11 ,14 ,16 ,14 ,13 ,15 ,16 ,20 ,15 ,19 ,20 ,15 ,15 ,16 ,11 ,17 ,18 ,15 ,11 ,14 ,11 ,12 ,14 ,13 ,13 ,10 ,12 ,11 ,18 ,12 ,16 ,13 ,11]\n",
        "martes = [11, 17, 11, 14, 16, 12, 13, 16, 16, 14, 13, 13, 15, 13, 17, 11, 14, 15, 11, 15, 14, 16, 11, 16, 12, 15, 15, 14, 12, 16, 13, 11, 16, 11, 12, 15, 15, 11, 11, 16, 12, 14, 12]\n",
        "miercoles = [21, 21, 19, 16, 18, 17, 21, 20, 15, 21, 17, 15, 19, 19, 20, 16, 19, 19, 16, 15, 20, 20, 18, 17, 22, 21, 19, 18, 21, 20, 19, 15, 17, 16, 17, 19, 15, 16, 22, 20, 20, 16, 16]\n",
        "jueves = [16, 12, 16, 15, 14, 18, 13, 18, 16, 14, 17, 18, 21, 14, 13, 18, 14, 19, 13, 21, 17, 18, 19, 22, 12, 20, 21, 14, 18, 21, 14, 21, 18, 14, 18, 19, 15, 21, 20, 21, 14, 21, 19]\n",
        "viernes = [12, 16, 12,  8,  9, 16,  9, 15,  9,  7, 15,  8, 10,  9,  8,  8,  8, 16,  9, 11, 12, 12, 12, 15, 13, 15, 10,  9, 16, 15, 15, 17, 15,  8, 14, 8, 7, 10, 15,  9,  8, 16, 17]\n",
        "sabado = [24, 34, 32, 20, 32, 27, 32, 22, 33, 21, 33, 27, 32, 26, 21, 34, 34, 26, 30, 26, 25, 30, 24, 34, 20, 23, 32, 28, 22, 21, 35, 23, 30, 27, 25, 23, 25, 28, 32, 27, 23, 23, 34]\n",
        "print(\"Datos recolectados los lunes:\", len(lunes))"
      ]
    },
    {
      "cell_type": "markdown",
      "metadata": {
        "id": "iHhgN_catQeK"
      },
      "source": [
        "#### Frecuencia Lunes-Viernes\n",
        "\n",
        "\n",
        "*   Gráficar la distribución de los datos.\n",
        "*   Calcular los indicadores de probabilidad.\n",
        "\n",
        "\n"
      ]
    },
    {
      "cell_type": "code",
      "execution_count": null,
      "metadata": {
        "id": "H1tRonSTnsr8"
      },
      "outputs": [],
      "source": [
        "# Agregar toda la información a una variable y tranformar en un dato tipo array.\n",
        "frecuencia = np.concatenate((lunes, martes, miercoles, jueves, viernes))"
      ]
    },
    {
      "cell_type": "code",
      "execution_count": null,
      "metadata": {
        "colab": {
          "base_uri": "https://localhost:8080/",
          "height": 638
        },
        "id": "vcyM1c0FtQeL",
        "outputId": "28584e49-f394-4da1-d16a-4744253a6cb8",
        "tags": []
      },
      "outputs": [
        {
          "output_type": "stream",
          "name": "stdout",
          "text": [
            "Datos ensayados: 215\n",
            "Promedio: 15.06046511627907\n",
            "Mediana: 15.0\n",
            "Desvio: 3.5882326760057266\n"
          ]
        },
        {
          "output_type": "display_data",
          "data": {
            "text/plain": [
              "<Figure size 1152x648 with 1 Axes>"
            ],
            "image/png": "[encoded data removed]"
          },
          "metadata": {
            "needs_background": "light"
          }
        }
      ],
      "source": [
        "\n",
        "fig = plt.figure(figsize=(16,9))\n",
        "ax = fig.add_subplot()\n",
        "\n",
        "# set_style(\"color\"), agrega color de fondo \n",
        "sns.set_style(\"white\")\n",
        "\n",
        "# Se representará un histplot (histograma+línea)\n",
        "# kde, parámetro que si es True, calcula una estimación de densidad kernel para suavizar la distribución y mostrarla en el gráfico como una o más líneas. \n",
        "# ax, son los ejes preexistentes para la trama.\n",
        "ax = sns.histplot(x=frecuencia, kde=True, color=\"darkBlue\", ax=ax)\n",
        "ax.set_title(\"Frecuencia Lunes-Viernes\", fontsize=16)\n",
        "ax.set_ylabel(\"Cantidad\", fontsize=12)\n",
        "ax.set_xlabel('Frecuencia')\n",
        "\n",
        "print(\"Datos ensayados:\", len(frecuencia))\n",
        "print(\"Promedio:\", np.mean(frecuencia))\n",
        "print(\"Mediana:\", np.median(frecuencia))\n",
        "print(\"Desvio:\", np.std(frecuencia))\n",
        "plt.show()"
      ]
    },
    {
      "cell_type": "markdown",
      "metadata": {
        "id": "-UoHQs8JqIsO"
      },
      "source": [
        "### Gráfico de caja (Boxplot)"
      ]
    },
    {
      "cell_type": "code",
      "execution_count": null,
      "metadata": {
        "colab": {
          "base_uri": "https://localhost:8080/",
          "height": 639
        },
        "id": "cEfaJJH0tQeV",
        "outputId": "eebdd675-8b02-4ebb-e167-3d049512460f",
        "tags": []
      },
      "outputs": [
        {
          "output_type": "stream",
          "name": "stdout",
          "text": [
            "Datos ensayados: 215\n",
            "Promedio: 15.06046511627907\n",
            "Mediana: 15.0\n",
            "Desvio: 3.5882326760057266\n"
          ]
        },
        {
          "output_type": "display_data",
          "data": {
            "text/plain": [
              "<Figure size 1152x648 with 1 Axes>"
            ],
            "image/png": "[encoded data removed]"
          },
          "metadata": {}
        }
      ],
      "source": [
        "# sns.boxplot() Método de Seaborn para el gráfico de caja\n",
        "fig = plt.figure(figsize=(16,9))\n",
        "ax = fig.add_subplot()\n",
        "ax = sns.boxplot(x=frecuencia, ax=ax)\n",
        "ax.set_title(\"Grafíco boxplot: Frecuencia Lunes-Viernes\", fontsize=16) # Agrega título al gráfico\n",
        "ax.set_xlabel('Frecuencia') # Identifica al eje x con nombre.\n",
        "\n",
        "print(\"Datos ensayados:\", len(frecuencia))\n",
        "print(\"Promedio:\", np.mean(frecuencia))\n",
        "print(\"Mediana:\", np.median(frecuencia))\n",
        "print(\"Desvio:\", np.std(frecuencia))\n",
        "plt.show()"
      ]
    },
    {
      "cell_type": "markdown",
      "metadata": {
        "id": "deXTd1RftQea"
      },
      "source": [
        "#### Frecuencia Lunes-Sábados"
      ]
    },
    {
      "cell_type": "code",
      "execution_count": null,
      "metadata": {
        "id": "H6Uy_lTyseLl"
      },
      "outputs": [],
      "source": [
        "# Transformando los datos del sabado a un array.\n",
        "sabado = np.array(sabado)"
      ]
    },
    {
      "cell_type": "code",
      "execution_count": null,
      "metadata": {
        "colab": {
          "base_uri": "https://localhost:8080/",
          "height": 638
        },
        "id": "1AKFT1PptQeb",
        "outputId": "f76e4b55-d749-48a8-cebc-f03d936ef3d9",
        "tags": []
      },
      "outputs": [
        {
          "output_type": "stream",
          "name": "stdout",
          "text": [
            "Datos ensayados: 258\n",
            "Promedio: 17.124031007751938\n",
            "Mediana: 16.0\n",
            "Desvio: 5.965674100376816\n"
          ]
        },
        {
          "output_type": "display_data",
          "data": {
            "text/plain": [
              "<Figure size 1152x648 with 1 Axes>"
            ],
            "image/png": "[encoded data removed]"
          },
          "metadata": {}
        }
      ],
      "source": [
        "# Agregar a la variable frecuencia los datos del sábado.\n",
        "frecuencia2 = np.append(frecuencia, sabado)\n",
        "\n",
        "fig = plt.figure(figsize=(16,9))\n",
        "ax = fig.add_subplot()\n",
        "    \n",
        "sns.set_style(\"white\")\n",
        "        \n",
        "ax = sns.histplot(x=frecuencia2, kde=True, color=\"darkgreen\", ax=ax)\n",
        "ax.set_title(\"Frecuencia Lunes-Sabados\", fontsize=16)\n",
        "ax.set_ylabel(\"Cantidad\", fontsize=12)\n",
        "ax.set_xlabel('Frecuencia')\n",
        "\n",
        "print(\"Datos ensayados:\", len(frecuencia2))\n",
        "print(\"Promedio:\", np.mean(frecuencia2))\n",
        "print(\"Mediana:\", np.median(frecuencia2))\n",
        "print(\"Desvio:\", np.std(frecuencia2))\n",
        "plt.show()"
      ]
    },
    {
      "cell_type": "markdown",
      "metadata": {
        "id": "TlOOu_0htQee"
      },
      "source": [
        "##### Otra forma de verlo con el gráfico de caja (Boxplot)"
      ]
    },
    {
      "cell_type": "code",
      "execution_count": null,
      "metadata": {
        "colab": {
          "base_uri": "https://localhost:8080/",
          "height": 639
        },
        "id": "GVVU5qb8tQef",
        "outputId": "dd09e46c-c608-48d9-8447-8996db7cee0c",
        "tags": []
      },
      "outputs": [
        {
          "output_type": "stream",
          "name": "stdout",
          "text": [
            "Datos ensayados: 258\n",
            "Promedio: 17.124031007751938\n",
            "Mediana: 16.0\n",
            "Desvio: 5.965674100376816\n"
          ]
        },
        {
          "output_type": "display_data",
          "data": {
            "text/plain": [
              "<Figure size 1152x648 with 1 Axes>"
            ],
            "image/png": "[encoded data removed]"
          },
          "metadata": {}
        }
      ],
      "source": [
        "fig = plt.figure(figsize=(16,9))\n",
        "ax = fig.add_subplot()\n",
        "ax = sns.boxplot(x=frecuencia2, ax=ax, color=\"darkcyan\")\n",
        "ax.set_title(\"Grafíco boxplot: Frecuencia Lunes-Sabados\", fontsize=16)\n",
        "ax.set_xlabel('Frecuencia')\n",
        "\n",
        "print(\"Datos ensayados:\", len(frecuencia2))\n",
        "print(\"Promedio:\", np.mean(frecuencia2))\n",
        "print(\"Mediana:\", np.median(frecuencia2))\n",
        "print(\"Desvio:\", np.std(frecuencia2))\n",
        "plt.show()"
      ]
    },
    {
      "cell_type": "markdown",
      "metadata": {
        "id": "Fq5bXui3tQeh"
      },
      "source": [
        "#### Frecuencia solo sábados"
      ]
    },
    {
      "cell_type": "code",
      "execution_count": null,
      "metadata": {
        "colab": {
          "base_uri": "https://localhost:8080/",
          "height": 638
        },
        "id": "9npVanEVtQei",
        "outputId": "6f366069-f847-4508-aaf9-aafc8e94a1e9",
        "tags": []
      },
      "outputs": [
        {
          "output_type": "stream",
          "name": "stdout",
          "text": [
            "Datos ensayados: 43\n",
            "Promedio: 27.441860465116278\n",
            "Mediana: 27.0\n",
            "Desvio: 4.627030418330738\n"
          ]
        },
        {
          "output_type": "display_data",
          "data": {
            "text/plain": [
              "<Figure size 1152x648 with 1 Axes>"
            ],
            "image/png": "[encoded data removed]"
          },
          "metadata": {}
        }
      ],
      "source": [
        "fig = plt.figure(figsize=(16,9))\n",
        "ax = fig.add_subplot()\n",
        "    \n",
        "sns.set_style(\"white\")\n",
        "\n",
        "ax = sns.histplot(x=sabado, kde=True, color=\"darkred\", ax=ax)\n",
        "ax.set_title(\"Frecuencia Sábados\", fontsize=16)\n",
        "ax.set_ylabel(\"Cantidad\", fontsize=12)\n",
        "ax.set_xlabel('Frecuencia')\n",
        "\n",
        "print(\"Datos ensayados:\", len(sabado))\n",
        "print(\"Promedio:\", np.mean(sabado))\n",
        "print(\"Mediana:\", np.median(sabado))\n",
        "print(\"Desvio:\", np.std(sabado))\n",
        "plt.show()"
      ]
    }
  ],
  "metadata": {
    "colab": {
      "provenance": [],
      "include_colab_link": true
    },
    "kernelspec": {
      "display_name": "Python 3",
      "language": "python",
      "name": "python3"
    },
    "language_info": {
      "codemirror_mode": {
        "name": "ipython",
        "version": 3
      },
      "file_extension": ".py",
      "mimetype": "text/x-python",
      "name": "python",
      "nbconvert_exporter": "python",
      "pygments_lexer": "ipython3",
      "version": "3.8.10"
    },
    "vscode": {
      "interpreter": {
        "hash": "97e12f1ac9f26099b54b9e7d4ebc9834a88f2d401bac5ba802dc7f7f5939f7f3"
      }
    }
  },
  "nbformat": 4,
  "nbformat_minor": 0
}